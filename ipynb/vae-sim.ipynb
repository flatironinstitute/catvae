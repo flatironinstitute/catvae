{
 "cells": [
  {
   "cell_type": "code",
   "execution_count": 1,
   "metadata": {},
   "outputs": [],
   "source": [
    "import os\n",
    "import shutil\n",
    "import unittest\n",
    "from catvae.trainer import LightningCountVAE\n",
    "from catvae.sim import multinomial_bioms\n",
    "from biom import Table\n",
    "from biom.util import biom_open\n",
    "import numpy as np\n",
    "from pytorch_lightning import Trainer\n",
    "import argparse\n",
    "import seaborn as sns"
   ]
  },
  {
   "cell_type": "code",
   "execution_count": 2,
   "metadata": {},
   "outputs": [
    {
     "data": {
      "text/plain": [
       "'1.6.0'"
      ]
     },
     "execution_count": 2,
     "metadata": {},
     "output_type": "execute_result"
    }
   ],
   "source": [
    "import torch\n",
    "torch.__version__"
   ]
  },
  {
   "cell_type": "markdown",
   "metadata": {},
   "source": [
    "# Simulate data"
   ]
  },
  {
   "cell_type": "code",
   "execution_count": 3,
   "metadata": {},
   "outputs": [],
   "source": [
    "np.random.seed(0)\n",
    "sims = multinomial_bioms(k=4, D=30, N=250, M=10000)\n",
    "Y = sims['Y']\n",
    "parts = Y.shape[0] // 10\n",
    "samp_ids = list(map(str, range(Y.shape[0])))\n",
    "obs_ids = list(map(str, range(Y.shape[1])))\n",
    "train = Table(Y[:parts * 8].T, obs_ids, samp_ids[:parts * 8])\n",
    "test = Table(Y[parts * 8 : parts * 9].T,\n",
    "             obs_ids, samp_ids[parts * 8 : parts * 9])\n",
    "valid = Table(Y[parts * 9:].T, obs_ids, samp_ids[parts * 9:])\n",
    "tree = sims\n",
    "with biom_open('train.biom', 'w') as f:\n",
    "    train.to_hdf5(f, 'train')\n",
    "with biom_open('test.biom', 'w') as f:\n",
    "    test.to_hdf5(f, 'test')\n",
    "with biom_open('valid.biom', 'w') as f:\n",
    "    valid.to_hdf5(f, 'valid')"
   ]
  },
  {
   "cell_type": "code",
   "execution_count": 4,
   "metadata": {},
   "outputs": [
    {
     "data": {
      "text/plain": [
       "'basis.nwk'"
      ]
     },
     "execution_count": 4,
     "metadata": {},
     "output_type": "execute_result"
    }
   ],
   "source": [
    "sims['tree'].write('basis.nwk')"
   ]
  },
  {
   "cell_type": "markdown",
   "metadata": {},
   "source": [
    "# Train model"
   ]
  },
  {
   "cell_type": "code",
   "execution_count": 5,
   "metadata": {
    "scrolled": false
   },
   "outputs": [
    {
     "name": "stderr",
     "output_type": "stream",
     "text": [
      "GPU available: True, used: True\n",
      "TPU available: False, using: 0 TPU cores\n",
      "CUDA_VISIBLE_DEVICES: [0]\n",
      "/home/juermieboop/miniconda3/envs/catvae/lib/python3.8/site-packages/pytorch_lightning/utilities/distributed.py:37: UserWarning: Could not log computational graph since the `model.example_input_array` attribute is not set or `input_array` was not given\n",
      "  warnings.warn(*args, **kwargs)\n",
      "\n",
      "  | Name  | Type         | Params\n",
      "---------------------------------------\n",
      "0 | model | LinearCatVAE | 6 K   \n"
     ]
    },
    {
     "data": {
      "application/vnd.jupyter.widget-view+json": {
       "model_id": "",
       "version_major": 2,
       "version_minor": 0
      },
      "text/plain": [
       "HBox(children=(FloatProgress(value=1.0, bar_style='info', description='Validation sanity check', layout=Layout…"
      ]
     },
     "metadata": {},
     "output_type": "display_data"
    },
    {
     "name": "stdout",
     "output_type": "stream",
     "text": [
      "tensor([[-6.6151e-04, -1.2041e-03,  1.8023e-03,  9.4212e-04],\n",
      "        [ 1.1088e-03, -3.1966e-04,  6.2828e-04, -1.1048e-03],\n",
      "        [-4.6673e-04,  1.1367e-03, -4.8688e-04,  5.9106e-04],\n",
      "        [-9.5821e-04, -7.2369e-05,  2.0285e-04,  4.9363e-05],\n",
      "        [-1.6317e-04, -1.0512e-04,  5.1375e-04,  6.3205e-04],\n",
      "        [ 1.5434e-03, -3.0442e-04,  9.0776e-04, -8.7771e-04],\n",
      "        [-2.7815e-04, -1.0713e-03, -6.0843e-04,  9.4978e-04],\n",
      "        [ 1.8745e-04, -9.0518e-04, -8.7342e-04,  4.7239e-04],\n",
      "        [-1.5246e-03,  1.5120e-04,  6.3772e-04,  3.1237e-04],\n",
      "        [-9.2798e-04,  6.8641e-04, -1.2747e-03,  4.6764e-04],\n",
      "        [ 8.1069e-04, -4.7660e-04,  5.9866e-04, -2.0696e-04],\n",
      "        [-5.3539e-04,  1.7420e-03,  7.5694e-04,  7.6580e-04],\n",
      "        [ 1.0877e-04, -1.6315e-03, -7.0067e-04, -7.6027e-04],\n",
      "        [ 7.6635e-04,  1.2570e-05,  8.8399e-04, -2.2097e-03],\n",
      "        [ 4.3665e-05,  1.2349e-03,  8.5998e-06, -9.9088e-04],\n",
      "        [ 1.4860e-03,  1.0444e-03, -1.1456e-04,  7.4403e-04],\n",
      "        [ 5.0769e-04, -1.8983e-05, -7.9452e-04, -6.6014e-04],\n",
      "        [-2.3003e-04, -2.1728e-04, -1.3468e-03,  3.6004e-04],\n",
      "        [-5.5162e-04, -5.3284e-04, -2.1697e-03,  3.5751e-05],\n",
      "        [ 7.8426e-04,  1.1554e-03,  2.2332e-03,  4.7753e-04],\n",
      "        [-1.0814e-03,  7.4627e-04,  3.1895e-04,  1.9723e-04],\n",
      "        [-2.2392e-04,  1.5322e-03,  7.3044e-04, -4.4216e-04],\n",
      "        [-1.6886e-04, -2.1977e-03,  1.1412e-04,  1.8756e-03],\n",
      "        [ 1.1398e-03, -5.6807e-04, -2.1145e-04, -1.1935e-03],\n",
      "        [-1.3986e-03, -2.1079e-04,  7.0600e-04, -4.0239e-04],\n",
      "        [ 6.6594e-04, -1.4923e-03,  3.7265e-04, -7.6647e-04],\n",
      "        [ 5.5503e-04,  3.6192e-04,  7.5485e-04, -7.4927e-04],\n",
      "        [-4.2977e-05, -1.0169e-03, -5.0474e-04,  1.4546e-03],\n",
      "        [-1.0667e-03, -2.8514e-03,  3.3816e-04,  1.6037e-03]], device='cuda:0')\n"
     ]
    },
    {
     "data": {
      "application/vnd.jupyter.widget-view+json": {
       "model_id": "2107d9f644b64f958a04999a380ee862",
       "version_major": 2,
       "version_minor": 0
      },
      "text/plain": [
       "HBox(children=(FloatProgress(value=1.0, bar_style='info', description='Training', layout=Layout(flex='2'), max…"
      ]
     },
     "metadata": {},
     "output_type": "display_data"
    },
    {
     "name": "stdout",
     "output_type": "stream",
     "text": [
      "tensor([[-6.6151e-04, -1.2041e-03,  1.8023e-03,  9.4212e-04],\n",
      "        [ 1.1088e-03, -3.1966e-04,  6.2828e-04, -1.1048e-03],\n",
      "        [-4.6673e-04,  1.1367e-03, -4.8688e-04,  5.9106e-04],\n",
      "        [-9.5821e-04, -7.2369e-05,  2.0285e-04,  4.9363e-05],\n",
      "        [-1.6317e-04, -1.0512e-04,  5.1375e-04,  6.3205e-04],\n",
      "        [ 1.5434e-03, -3.0442e-04,  9.0776e-04, -8.7771e-04],\n",
      "        [-2.7815e-04, -1.0713e-03, -6.0843e-04,  9.4978e-04],\n",
      "        [ 1.8745e-04, -9.0518e-04, -8.7342e-04,  4.7239e-04],\n",
      "        [-1.5246e-03,  1.5120e-04,  6.3772e-04,  3.1237e-04],\n",
      "        [-9.2798e-04,  6.8641e-04, -1.2747e-03,  4.6764e-04],\n",
      "        [ 8.1069e-04, -4.7660e-04,  5.9866e-04, -2.0696e-04],\n",
      "        [-5.3539e-04,  1.7420e-03,  7.5694e-04,  7.6580e-04],\n",
      "        [ 1.0877e-04, -1.6315e-03, -7.0067e-04, -7.6027e-04],\n",
      "        [ 7.6635e-04,  1.2570e-05,  8.8399e-04, -2.2097e-03],\n",
      "        [ 4.3665e-05,  1.2349e-03,  8.5998e-06, -9.9088e-04],\n",
      "        [ 1.4860e-03,  1.0444e-03, -1.1456e-04,  7.4403e-04],\n",
      "        [ 5.0769e-04, -1.8983e-05, -7.9452e-04, -6.6014e-04],\n",
      "        [-2.3003e-04, -2.1728e-04, -1.3468e-03,  3.6004e-04],\n",
      "        [-5.5162e-04, -5.3284e-04, -2.1697e-03,  3.5751e-05],\n",
      "        [ 7.8426e-04,  1.1554e-03,  2.2332e-03,  4.7753e-04],\n",
      "        [-1.0814e-03,  7.4627e-04,  3.1895e-04,  1.9723e-04],\n",
      "        [-2.2392e-04,  1.5322e-03,  7.3044e-04, -4.4216e-04],\n",
      "        [-1.6886e-04, -2.1977e-03,  1.1412e-04,  1.8756e-03],\n",
      "        [ 1.1398e-03, -5.6807e-04, -2.1145e-04, -1.1935e-03],\n",
      "        [-1.3986e-03, -2.1079e-04,  7.0600e-04, -4.0239e-04],\n",
      "        [ 6.6594e-04, -1.4923e-03,  3.7265e-04, -7.6647e-04],\n",
      "        [ 5.5503e-04,  3.6192e-04,  7.5485e-04, -7.4927e-04],\n",
      "        [-4.2977e-05, -1.0169e-03, -5.0474e-04,  1.4546e-03],\n",
      "        [-1.0667e-03, -2.8514e-03,  3.3816e-04,  1.6037e-03]], device='cuda:0',\n",
      "       grad_fn=<SparseAddmmBackward>)\n"
     ]
    },
    {
     "ename": "RuntimeError",
     "evalue": "sparse tensors do not have strides\nException raised from strides at /opt/conda/conda-bld/pytorch_1595629395347/work/aten/src/ATen/SparseTensorImpl.cpp:52 (most recent call first):\nframe #0: c10::Error::Error(c10::SourceLocation, std::string) + 0x4d (0x7f3d7420877d in /home/juermieboop/miniconda3/envs/catvae/lib/python3.8/site-packages/torch/lib/libc10.so)\nframe #1: at::SparseTensorImpl::strides() const + 0xb2 (0x7f3d52e88402 in /home/juermieboop/miniconda3/envs/catvae/lib/python3.8/site-packages/torch/lib/libtorch_cpu.so)\nframe #2: <unknown function> + 0xb3737b (0x7f3d531f037b in /home/juermieboop/miniconda3/envs/catvae/lib/python3.8/site-packages/torch/lib/libtorch_cpu.so)\nframe #3: <unknown function> + 0xb3d655 (0x7f3d531f6655 in /home/juermieboop/miniconda3/envs/catvae/lib/python3.8/site-packages/torch/lib/libtorch_cpu.so)\nframe #4: <unknown function> + 0xb3da80 (0x7f3d531f6a80 in /home/juermieboop/miniconda3/envs/catvae/lib/python3.8/site-packages/torch/lib/libtorch_cpu.so)\nframe #5: at::native::sum_out(at::Tensor&, at::Tensor const&, c10::ArrayRef<long>, bool, c10::optional<c10::ScalarType>) + 0x8f (0x7f3d531f6b6f in /home/juermieboop/miniconda3/envs/catvae/lib/python3.8/site-packages/torch/lib/libtorch_cpu.so)\nframe #6: at::native::sum(at::Tensor const&, c10::ArrayRef<long>, bool, c10::optional<c10::ScalarType>) + 0x4b (0x7f3d531f71fb in /home/juermieboop/miniconda3/envs/catvae/lib/python3.8/site-packages/torch/lib/libtorch_cpu.so)\nframe #7: at::native::sum(at::Tensor const&, c10::optional<c10::ScalarType>) + 0x38 (0x7f3d531f72c8 in /home/juermieboop/miniconda3/envs/catvae/lib/python3.8/site-packages/torch/lib/libtorch_cpu.so)\nframe #8: <unknown function> + 0xff5633 (0x7f3d536ae633 in /home/juermieboop/miniconda3/envs/catvae/lib/python3.8/site-packages/torch/lib/libtorch_cpu.so)\nframe #9: <unknown function> + 0x7f67be (0x7f3d52eaf7be in /home/juermieboop/miniconda3/envs/catvae/lib/python3.8/site-packages/torch/lib/libtorch_cpu.so)\nframe #10: at::sum(at::Tensor const&, c10::optional<c10::ScalarType>) + 0xf8 (0x7f3d535e70a8 in /home/juermieboop/miniconda3/envs/catvae/lib/python3.8/site-packages/torch/lib/libtorch_cpu.so)\nframe #11: <unknown function> + 0x2bb396b (0x7f3d5526c96b in /home/juermieboop/miniconda3/envs/catvae/lib/python3.8/site-packages/torch/lib/libtorch_cpu.so)\nframe #12: <unknown function> + 0x7f67be (0x7f3d52eaf7be in /home/juermieboop/miniconda3/envs/catvae/lib/python3.8/site-packages/torch/lib/libtorch_cpu.so)\nframe #13: at::Tensor::sum(c10::optional<c10::ScalarType>) const + 0xf8 (0x7f3d53758818 in /home/juermieboop/miniconda3/envs/catvae/lib/python3.8/site-packages/torch/lib/libtorch_cpu.so)\nframe #14: <unknown function> + 0x30c63e0 (0x7f3d5577f3e0 in /home/juermieboop/miniconda3/envs/catvae/lib/python3.8/site-packages/torch/lib/libtorch_cpu.so)\nframe #15: torch::autograd::Engine::evaluate_function(std::shared_ptr<torch::autograd::GraphTask>&, torch::autograd::Node*, torch::autograd::InputBuffer&, std::shared_ptr<torch::autograd::ReadyQueue> const&) + 0x3fd (0x7f3d5578485d in /home/juermieboop/miniconda3/envs/catvae/lib/python3.8/site-packages/torch/lib/libtorch_cpu.so)\nframe #16: torch::autograd::Engine::thread_main(std::shared_ptr<torch::autograd::GraphTask> const&) + 0x451 (0x7f3d55786401 in /home/juermieboop/miniconda3/envs/catvae/lib/python3.8/site-packages/torch/lib/libtorch_cpu.so)\nframe #17: torch::autograd::Engine::thread_init(int, std::shared_ptr<torch::autograd::ReadyQueue> const&, bool) + 0x89 (0x7f3d5577e579 in /home/juermieboop/miniconda3/envs/catvae/lib/python3.8/site-packages/torch/lib/libtorch_cpu.so)\nframe #18: torch::autograd::python::PythonEngine::thread_init(int, std::shared_ptr<torch::autograd::ReadyQueue> const&, bool) + 0x4a (0x7f3d5969e1ba in /home/juermieboop/miniconda3/envs/catvae/lib/python3.8/site-packages/torch/lib/libtorch_python.so)\nframe #19: <unknown function> + 0xc9067 (0x7f3d922f2067 in /home/juermieboop/miniconda3/envs/catvae/lib/python3.8/site-packages/zmq/backend/cython/../../../../.././libstdc++.so.6)\nframe #20: <unknown function> + 0x76db (0x7f3d94fa86db in /lib/x86_64-linux-gnu/libpthread.so.0)\nframe #21: clone + 0x3f (0x7f3d94cd1a3f in /lib/x86_64-linux-gnu/libc.so.6)\n",
     "output_type": "error",
     "traceback": [
      "\u001b[0;31m---------------------------------------------------------------------------\u001b[0m",
      "\u001b[0;31mRuntimeError\u001b[0m                              Traceback (most recent call last)",
      "\u001b[0;32m<ipython-input-5-1ff92d3eebb3>\u001b[0m in \u001b[0;36m<module>\u001b[0;34m\u001b[0m\n\u001b[1;32m     30\u001b[0m     \u001b[0;31m# auto_scale_batch_size='power'\u001b[0m\u001b[0;34m\u001b[0m\u001b[0;34m\u001b[0m\u001b[0;34m\u001b[0m\u001b[0m\n\u001b[1;32m     31\u001b[0m )\n\u001b[0;32m---> 32\u001b[0;31m \u001b[0mtrainer\u001b[0m\u001b[0;34m.\u001b[0m\u001b[0mfit\u001b[0m\u001b[0;34m(\u001b[0m\u001b[0mmodel\u001b[0m\u001b[0;34m)\u001b[0m\u001b[0;34m\u001b[0m\u001b[0;34m\u001b[0m\u001b[0m\n\u001b[0m",
      "\u001b[0;32m~/miniconda3/envs/catvae/lib/python3.8/site-packages/pytorch_lightning/trainer/states.py\u001b[0m in \u001b[0;36mwrapped_fn\u001b[0;34m(self, *args, **kwargs)\u001b[0m\n\u001b[1;32m     46\u001b[0m             \u001b[0;32mif\u001b[0m \u001b[0mentering\u001b[0m \u001b[0;32mis\u001b[0m \u001b[0;32mnot\u001b[0m \u001b[0;32mNone\u001b[0m\u001b[0;34m:\u001b[0m\u001b[0;34m\u001b[0m\u001b[0;34m\u001b[0m\u001b[0m\n\u001b[1;32m     47\u001b[0m                 \u001b[0mself\u001b[0m\u001b[0;34m.\u001b[0m\u001b[0mstate\u001b[0m \u001b[0;34m=\u001b[0m \u001b[0mentering\u001b[0m\u001b[0;34m\u001b[0m\u001b[0;34m\u001b[0m\u001b[0m\n\u001b[0;32m---> 48\u001b[0;31m             \u001b[0mresult\u001b[0m \u001b[0;34m=\u001b[0m \u001b[0mfn\u001b[0m\u001b[0;34m(\u001b[0m\u001b[0mself\u001b[0m\u001b[0;34m,\u001b[0m \u001b[0;34m*\u001b[0m\u001b[0margs\u001b[0m\u001b[0;34m,\u001b[0m \u001b[0;34m**\u001b[0m\u001b[0mkwargs\u001b[0m\u001b[0;34m)\u001b[0m\u001b[0;34m\u001b[0m\u001b[0;34m\u001b[0m\u001b[0m\n\u001b[0m\u001b[1;32m     49\u001b[0m \u001b[0;34m\u001b[0m\u001b[0m\n\u001b[1;32m     50\u001b[0m             \u001b[0;31m# The INTERRUPTED state can be set inside the run function. To indicate that run was interrupted\u001b[0m\u001b[0;34m\u001b[0m\u001b[0;34m\u001b[0m\u001b[0;34m\u001b[0m\u001b[0m\n",
      "\u001b[0;32m~/miniconda3/envs/catvae/lib/python3.8/site-packages/pytorch_lightning/trainer/trainer.py\u001b[0m in \u001b[0;36mfit\u001b[0;34m(self, model, train_dataloader, val_dataloaders, datamodule)\u001b[0m\n\u001b[1;32m   1071\u001b[0m             \u001b[0mself\u001b[0m\u001b[0;34m.\u001b[0m\u001b[0maccelerator_backend\u001b[0m \u001b[0;34m=\u001b[0m \u001b[0mGPUBackend\u001b[0m\u001b[0;34m(\u001b[0m\u001b[0mself\u001b[0m\u001b[0;34m)\u001b[0m\u001b[0;34m\u001b[0m\u001b[0;34m\u001b[0m\u001b[0m\n\u001b[1;32m   1072\u001b[0m             \u001b[0mmodel\u001b[0m \u001b[0;34m=\u001b[0m \u001b[0mself\u001b[0m\u001b[0;34m.\u001b[0m\u001b[0maccelerator_backend\u001b[0m\u001b[0;34m.\u001b[0m\u001b[0msetup\u001b[0m\u001b[0;34m(\u001b[0m\u001b[0mmodel\u001b[0m\u001b[0;34m)\u001b[0m\u001b[0;34m\u001b[0m\u001b[0;34m\u001b[0m\u001b[0m\n\u001b[0;32m-> 1073\u001b[0;31m             \u001b[0mresults\u001b[0m \u001b[0;34m=\u001b[0m \u001b[0mself\u001b[0m\u001b[0;34m.\u001b[0m\u001b[0maccelerator_backend\u001b[0m\u001b[0;34m.\u001b[0m\u001b[0mtrain\u001b[0m\u001b[0;34m(\u001b[0m\u001b[0mmodel\u001b[0m\u001b[0;34m)\u001b[0m\u001b[0;34m\u001b[0m\u001b[0;34m\u001b[0m\u001b[0m\n\u001b[0m\u001b[1;32m   1074\u001b[0m \u001b[0;34m\u001b[0m\u001b[0m\n\u001b[1;32m   1075\u001b[0m         \u001b[0;32melif\u001b[0m \u001b[0mself\u001b[0m\u001b[0;34m.\u001b[0m\u001b[0muse_tpu\u001b[0m\u001b[0;34m:\u001b[0m\u001b[0;34m\u001b[0m\u001b[0;34m\u001b[0m\u001b[0m\n",
      "\u001b[0;32m~/miniconda3/envs/catvae/lib/python3.8/site-packages/pytorch_lightning/accelerators/gpu_backend.py\u001b[0m in \u001b[0;36mtrain\u001b[0;34m(self, model)\u001b[0m\n\u001b[1;32m     49\u001b[0m \u001b[0;34m\u001b[0m\u001b[0m\n\u001b[1;32m     50\u001b[0m     \u001b[0;32mdef\u001b[0m \u001b[0mtrain\u001b[0m\u001b[0;34m(\u001b[0m\u001b[0mself\u001b[0m\u001b[0;34m,\u001b[0m \u001b[0mmodel\u001b[0m\u001b[0;34m)\u001b[0m\u001b[0;34m:\u001b[0m\u001b[0;34m\u001b[0m\u001b[0;34m\u001b[0m\u001b[0m\n\u001b[0;32m---> 51\u001b[0;31m         \u001b[0mresults\u001b[0m \u001b[0;34m=\u001b[0m \u001b[0mself\u001b[0m\u001b[0;34m.\u001b[0m\u001b[0mtrainer\u001b[0m\u001b[0;34m.\u001b[0m\u001b[0mrun_pretrain_routine\u001b[0m\u001b[0;34m(\u001b[0m\u001b[0mmodel\u001b[0m\u001b[0;34m)\u001b[0m\u001b[0;34m\u001b[0m\u001b[0;34m\u001b[0m\u001b[0m\n\u001b[0m\u001b[1;32m     52\u001b[0m         \u001b[0;32mreturn\u001b[0m \u001b[0mresults\u001b[0m\u001b[0;34m\u001b[0m\u001b[0;34m\u001b[0m\u001b[0m\n\u001b[1;32m     53\u001b[0m \u001b[0;34m\u001b[0m\u001b[0m\n",
      "\u001b[0;32m~/miniconda3/envs/catvae/lib/python3.8/site-packages/pytorch_lightning/trainer/trainer.py\u001b[0m in \u001b[0;36mrun_pretrain_routine\u001b[0;34m(self, model)\u001b[0m\n\u001b[1;32m   1237\u001b[0m \u001b[0;34m\u001b[0m\u001b[0m\n\u001b[1;32m   1238\u001b[0m         \u001b[0;31m# CORE TRAINING LOOP\u001b[0m\u001b[0;34m\u001b[0m\u001b[0;34m\u001b[0m\u001b[0;34m\u001b[0m\u001b[0m\n\u001b[0;32m-> 1239\u001b[0;31m         \u001b[0mself\u001b[0m\u001b[0;34m.\u001b[0m\u001b[0mtrain\u001b[0m\u001b[0;34m(\u001b[0m\u001b[0;34m)\u001b[0m\u001b[0;34m\u001b[0m\u001b[0;34m\u001b[0m\u001b[0m\n\u001b[0m\u001b[1;32m   1240\u001b[0m \u001b[0;34m\u001b[0m\u001b[0m\n\u001b[1;32m   1241\u001b[0m     \u001b[0;32mdef\u001b[0m \u001b[0m_run_sanity_check\u001b[0m\u001b[0;34m(\u001b[0m\u001b[0mself\u001b[0m\u001b[0;34m,\u001b[0m \u001b[0mref_model\u001b[0m\u001b[0;34m,\u001b[0m \u001b[0mmodel\u001b[0m\u001b[0;34m)\u001b[0m\u001b[0;34m:\u001b[0m\u001b[0;34m\u001b[0m\u001b[0;34m\u001b[0m\u001b[0m\n",
      "\u001b[0;32m~/miniconda3/envs/catvae/lib/python3.8/site-packages/pytorch_lightning/trainer/training_loop.py\u001b[0m in \u001b[0;36mtrain\u001b[0;34m(self)\u001b[0m\n\u001b[1;32m    392\u001b[0m                 \u001b[0;31m# RUN TNG EPOCH\u001b[0m\u001b[0;34m\u001b[0m\u001b[0;34m\u001b[0m\u001b[0;34m\u001b[0m\u001b[0m\n\u001b[1;32m    393\u001b[0m                 \u001b[0;31m# -----------------\u001b[0m\u001b[0;34m\u001b[0m\u001b[0;34m\u001b[0m\u001b[0;34m\u001b[0m\u001b[0m\n\u001b[0;32m--> 394\u001b[0;31m                 \u001b[0mself\u001b[0m\u001b[0;34m.\u001b[0m\u001b[0mrun_training_epoch\u001b[0m\u001b[0;34m(\u001b[0m\u001b[0;34m)\u001b[0m\u001b[0;34m\u001b[0m\u001b[0;34m\u001b[0m\u001b[0m\n\u001b[0m\u001b[1;32m    395\u001b[0m \u001b[0;34m\u001b[0m\u001b[0m\n\u001b[1;32m    396\u001b[0m                 \u001b[0;32mif\u001b[0m \u001b[0mself\u001b[0m\u001b[0;34m.\u001b[0m\u001b[0mmax_steps\u001b[0m \u001b[0;32mand\u001b[0m \u001b[0mself\u001b[0m\u001b[0;34m.\u001b[0m\u001b[0mmax_steps\u001b[0m \u001b[0;34m<=\u001b[0m \u001b[0mself\u001b[0m\u001b[0;34m.\u001b[0m\u001b[0mglobal_step\u001b[0m\u001b[0;34m:\u001b[0m\u001b[0;34m\u001b[0m\u001b[0;34m\u001b[0m\u001b[0m\n",
      "\u001b[0;32m~/miniconda3/envs/catvae/lib/python3.8/site-packages/pytorch_lightning/trainer/training_loop.py\u001b[0m in \u001b[0;36mrun_training_epoch\u001b[0;34m(self)\u001b[0m\n\u001b[1;32m    489\u001b[0m             \u001b[0;31m# TRAINING_STEP + TRAINING_STEP_END\u001b[0m\u001b[0;34m\u001b[0m\u001b[0;34m\u001b[0m\u001b[0;34m\u001b[0m\u001b[0m\n\u001b[1;32m    490\u001b[0m             \u001b[0;31m# ------------------------------------\u001b[0m\u001b[0;34m\u001b[0m\u001b[0;34m\u001b[0m\u001b[0;34m\u001b[0m\u001b[0m\n\u001b[0;32m--> 491\u001b[0;31m             \u001b[0mbatch_output\u001b[0m \u001b[0;34m=\u001b[0m \u001b[0mself\u001b[0m\u001b[0;34m.\u001b[0m\u001b[0mrun_training_batch\u001b[0m\u001b[0;34m(\u001b[0m\u001b[0mbatch\u001b[0m\u001b[0;34m,\u001b[0m \u001b[0mbatch_idx\u001b[0m\u001b[0;34m)\u001b[0m\u001b[0;34m\u001b[0m\u001b[0;34m\u001b[0m\u001b[0m\n\u001b[0m\u001b[1;32m    492\u001b[0m \u001b[0;34m\u001b[0m\u001b[0m\n\u001b[1;32m    493\u001b[0m             \u001b[0;31m# only track outputs when user implements training_epoch_end\u001b[0m\u001b[0;34m\u001b[0m\u001b[0;34m\u001b[0m\u001b[0;34m\u001b[0m\u001b[0m\n",
      "\u001b[0;32m~/miniconda3/envs/catvae/lib/python3.8/site-packages/pytorch_lightning/trainer/training_loop.py\u001b[0m in \u001b[0;36mrun_training_batch\u001b[0;34m(self, batch, batch_idx)\u001b[0m\n\u001b[1;32m    837\u001b[0m                 \u001b[0;31m# calculate loss (train step + train step end)\u001b[0m\u001b[0;34m\u001b[0m\u001b[0;34m\u001b[0m\u001b[0;34m\u001b[0m\u001b[0m\n\u001b[1;32m    838\u001b[0m                 \u001b[0;31m# -------------------\u001b[0m\u001b[0;34m\u001b[0m\u001b[0;34m\u001b[0m\u001b[0;34m\u001b[0m\u001b[0m\n\u001b[0;32m--> 839\u001b[0;31m                 opt_closure_result = self.optimizer_closure(\n\u001b[0m\u001b[1;32m    840\u001b[0m                     \u001b[0msplit_batch\u001b[0m\u001b[0;34m,\u001b[0m\u001b[0;34m\u001b[0m\u001b[0;34m\u001b[0m\u001b[0m\n\u001b[1;32m    841\u001b[0m                     \u001b[0mbatch_idx\u001b[0m\u001b[0;34m,\u001b[0m\u001b[0;34m\u001b[0m\u001b[0;34m\u001b[0m\u001b[0m\n",
      "\u001b[0;32m~/miniconda3/envs/catvae/lib/python3.8/site-packages/pytorch_lightning/trainer/training_loop.py\u001b[0m in \u001b[0;36moptimizer_closure\u001b[0;34m(self, split_batch, batch_idx, opt_idx, optimizer, hiddens)\u001b[0m\n\u001b[1;32m   1074\u001b[0m \u001b[0;34m\u001b[0m\u001b[0m\n\u001b[1;32m   1075\u001b[0m             \u001b[0;31m# do backward pass\u001b[0m\u001b[0;34m\u001b[0m\u001b[0;34m\u001b[0m\u001b[0;34m\u001b[0m\u001b[0m\n\u001b[0;32m-> 1076\u001b[0;31m             \u001b[0mmodel_ref\u001b[0m\u001b[0;34m.\u001b[0m\u001b[0mbackward\u001b[0m\u001b[0;34m(\u001b[0m\u001b[0mself\u001b[0m\u001b[0;34m,\u001b[0m \u001b[0mclosure_loss\u001b[0m\u001b[0;34m,\u001b[0m \u001b[0moptimizer\u001b[0m\u001b[0;34m,\u001b[0m \u001b[0mopt_idx\u001b[0m\u001b[0;34m)\u001b[0m\u001b[0;34m\u001b[0m\u001b[0;34m\u001b[0m\u001b[0m\n\u001b[0m\u001b[1;32m   1077\u001b[0m \u001b[0;34m\u001b[0m\u001b[0m\n\u001b[1;32m   1078\u001b[0m             \u001b[0;31m# exit amp context\u001b[0m\u001b[0;34m\u001b[0m\u001b[0;34m\u001b[0m\u001b[0;34m\u001b[0m\u001b[0m\n",
      "\u001b[0;32m~/miniconda3/envs/catvae/lib/python3.8/site-packages/pytorch_lightning/core/hooks.py\u001b[0m in \u001b[0;36mbackward\u001b[0;34m(self, trainer, loss, optimizer, optimizer_idx)\u001b[0m\n\u001b[1;32m    322\u001b[0m \u001b[0;34m\u001b[0m\u001b[0m\n\u001b[1;32m    323\u001b[0m         \"\"\"\n\u001b[0;32m--> 324\u001b[0;31m         \u001b[0mloss\u001b[0m\u001b[0;34m.\u001b[0m\u001b[0mbackward\u001b[0m\u001b[0;34m(\u001b[0m\u001b[0;34m)\u001b[0m\u001b[0;34m\u001b[0m\u001b[0;34m\u001b[0m\u001b[0m\n\u001b[0m\u001b[1;32m    325\u001b[0m \u001b[0;34m\u001b[0m\u001b[0m\n\u001b[1;32m    326\u001b[0m     \u001b[0;32mdef\u001b[0m \u001b[0mamp_scale_loss\u001b[0m\u001b[0;34m(\u001b[0m\u001b[0mself\u001b[0m\u001b[0;34m,\u001b[0m \u001b[0munscaled_loss\u001b[0m\u001b[0;34m,\u001b[0m \u001b[0moptimizer\u001b[0m\u001b[0;34m,\u001b[0m \u001b[0moptimizer_idx\u001b[0m\u001b[0;34m,\u001b[0m \u001b[0mamp_backend\u001b[0m\u001b[0;34m:\u001b[0m \u001b[0mAMPType\u001b[0m\u001b[0;34m)\u001b[0m\u001b[0;34m:\u001b[0m\u001b[0;34m\u001b[0m\u001b[0;34m\u001b[0m\u001b[0m\n",
      "\u001b[0;32m~/miniconda3/envs/catvae/lib/python3.8/site-packages/torch/tensor.py\u001b[0m in \u001b[0;36mbackward\u001b[0;34m(self, gradient, retain_graph, create_graph)\u001b[0m\n\u001b[1;32m    183\u001b[0m                 \u001b[0mproducts\u001b[0m\u001b[0;34m.\u001b[0m \u001b[0mDefaults\u001b[0m \u001b[0mto\u001b[0m\u001b[0;31m \u001b[0m\u001b[0;31m`\u001b[0m\u001b[0;31m`\u001b[0m\u001b[0;32mFalse\u001b[0m\u001b[0;31m`\u001b[0m\u001b[0;31m`\u001b[0m\u001b[0;34m.\u001b[0m\u001b[0;34m\u001b[0m\u001b[0;34m\u001b[0m\u001b[0m\n\u001b[1;32m    184\u001b[0m         \"\"\"\n\u001b[0;32m--> 185\u001b[0;31m         \u001b[0mtorch\u001b[0m\u001b[0;34m.\u001b[0m\u001b[0mautograd\u001b[0m\u001b[0;34m.\u001b[0m\u001b[0mbackward\u001b[0m\u001b[0;34m(\u001b[0m\u001b[0mself\u001b[0m\u001b[0;34m,\u001b[0m \u001b[0mgradient\u001b[0m\u001b[0;34m,\u001b[0m \u001b[0mretain_graph\u001b[0m\u001b[0;34m,\u001b[0m \u001b[0mcreate_graph\u001b[0m\u001b[0;34m)\u001b[0m\u001b[0;34m\u001b[0m\u001b[0;34m\u001b[0m\u001b[0m\n\u001b[0m\u001b[1;32m    186\u001b[0m \u001b[0;34m\u001b[0m\u001b[0m\n\u001b[1;32m    187\u001b[0m     \u001b[0;32mdef\u001b[0m \u001b[0mregister_hook\u001b[0m\u001b[0;34m(\u001b[0m\u001b[0mself\u001b[0m\u001b[0;34m,\u001b[0m \u001b[0mhook\u001b[0m\u001b[0;34m)\u001b[0m\u001b[0;34m:\u001b[0m\u001b[0;34m\u001b[0m\u001b[0;34m\u001b[0m\u001b[0m\n",
      "\u001b[0;32m~/miniconda3/envs/catvae/lib/python3.8/site-packages/torch/autograd/__init__.py\u001b[0m in \u001b[0;36mbackward\u001b[0;34m(tensors, grad_tensors, retain_graph, create_graph, grad_variables)\u001b[0m\n\u001b[1;32m    123\u001b[0m         \u001b[0mretain_graph\u001b[0m \u001b[0;34m=\u001b[0m \u001b[0mcreate_graph\u001b[0m\u001b[0;34m\u001b[0m\u001b[0;34m\u001b[0m\u001b[0m\n\u001b[1;32m    124\u001b[0m \u001b[0;34m\u001b[0m\u001b[0m\n\u001b[0;32m--> 125\u001b[0;31m     Variable._execution_engine.run_backward(\n\u001b[0m\u001b[1;32m    126\u001b[0m         \u001b[0mtensors\u001b[0m\u001b[0;34m,\u001b[0m \u001b[0mgrad_tensors\u001b[0m\u001b[0;34m,\u001b[0m \u001b[0mretain_graph\u001b[0m\u001b[0;34m,\u001b[0m \u001b[0mcreate_graph\u001b[0m\u001b[0;34m,\u001b[0m\u001b[0;34m\u001b[0m\u001b[0;34m\u001b[0m\u001b[0m\n\u001b[1;32m    127\u001b[0m         allow_unreachable=True)  # allow_unreachable flag\n",
      "\u001b[0;31mRuntimeError\u001b[0m: sparse tensors do not have strides\nException raised from strides at /opt/conda/conda-bld/pytorch_1595629395347/work/aten/src/ATen/SparseTensorImpl.cpp:52 (most recent call first):\nframe #0: c10::Error::Error(c10::SourceLocation, std::string) + 0x4d (0x7f3d7420877d in /home/juermieboop/miniconda3/envs/catvae/lib/python3.8/site-packages/torch/lib/libc10.so)\nframe #1: at::SparseTensorImpl::strides() const + 0xb2 (0x7f3d52e88402 in /home/juermieboop/miniconda3/envs/catvae/lib/python3.8/site-packages/torch/lib/libtorch_cpu.so)\nframe #2: <unknown function> + 0xb3737b (0x7f3d531f037b in /home/juermieboop/miniconda3/envs/catvae/lib/python3.8/site-packages/torch/lib/libtorch_cpu.so)\nframe #3: <unknown function> + 0xb3d655 (0x7f3d531f6655 in /home/juermieboop/miniconda3/envs/catvae/lib/python3.8/site-packages/torch/lib/libtorch_cpu.so)\nframe #4: <unknown function> + 0xb3da80 (0x7f3d531f6a80 in /home/juermieboop/miniconda3/envs/catvae/lib/python3.8/site-packages/torch/lib/libtorch_cpu.so)\nframe #5: at::native::sum_out(at::Tensor&, at::Tensor const&, c10::ArrayRef<long>, bool, c10::optional<c10::ScalarType>) + 0x8f (0x7f3d531f6b6f in /home/juermieboop/miniconda3/envs/catvae/lib/python3.8/site-packages/torch/lib/libtorch_cpu.so)\nframe #6: at::native::sum(at::Tensor const&, c10::ArrayRef<long>, bool, c10::optional<c10::ScalarType>) + 0x4b (0x7f3d531f71fb in /home/juermieboop/miniconda3/envs/catvae/lib/python3.8/site-packages/torch/lib/libtorch_cpu.so)\nframe #7: at::native::sum(at::Tensor const&, c10::optional<c10::ScalarType>) + 0x38 (0x7f3d531f72c8 in /home/juermieboop/miniconda3/envs/catvae/lib/python3.8/site-packages/torch/lib/libtorch_cpu.so)\nframe #8: <unknown function> + 0xff5633 (0x7f3d536ae633 in /home/juermieboop/miniconda3/envs/catvae/lib/python3.8/site-packages/torch/lib/libtorch_cpu.so)\nframe #9: <unknown function> + 0x7f67be (0x7f3d52eaf7be in /home/juermieboop/miniconda3/envs/catvae/lib/python3.8/site-packages/torch/lib/libtorch_cpu.so)\nframe #10: at::sum(at::Tensor const&, c10::optional<c10::ScalarType>) + 0xf8 (0x7f3d535e70a8 in /home/juermieboop/miniconda3/envs/catvae/lib/python3.8/site-packages/torch/lib/libtorch_cpu.so)\nframe #11: <unknown function> + 0x2bb396b (0x7f3d5526c96b in /home/juermieboop/miniconda3/envs/catvae/lib/python3.8/site-packages/torch/lib/libtorch_cpu.so)\nframe #12: <unknown function> + 0x7f67be (0x7f3d52eaf7be in /home/juermieboop/miniconda3/envs/catvae/lib/python3.8/site-packages/torch/lib/libtorch_cpu.so)\nframe #13: at::Tensor::sum(c10::optional<c10::ScalarType>) const + 0xf8 (0x7f3d53758818 in /home/juermieboop/miniconda3/envs/catvae/lib/python3.8/site-packages/torch/lib/libtorch_cpu.so)\nframe #14: <unknown function> + 0x30c63e0 (0x7f3d5577f3e0 in /home/juermieboop/miniconda3/envs/catvae/lib/python3.8/site-packages/torch/lib/libtorch_cpu.so)\nframe #15: torch::autograd::Engine::evaluate_function(std::shared_ptr<torch::autograd::GraphTask>&, torch::autograd::Node*, torch::autograd::InputBuffer&, std::shared_ptr<torch::autograd::ReadyQueue> const&) + 0x3fd (0x7f3d5578485d in /home/juermieboop/miniconda3/envs/catvae/lib/python3.8/site-packages/torch/lib/libtorch_cpu.so)\nframe #16: torch::autograd::Engine::thread_main(std::shared_ptr<torch::autograd::GraphTask> const&) + 0x451 (0x7f3d55786401 in /home/juermieboop/miniconda3/envs/catvae/lib/python3.8/site-packages/torch/lib/libtorch_cpu.so)\nframe #17: torch::autograd::Engine::thread_init(int, std::shared_ptr<torch::autograd::ReadyQueue> const&, bool) + 0x89 (0x7f3d5577e579 in /home/juermieboop/miniconda3/envs/catvae/lib/python3.8/site-packages/torch/lib/libtorch_cpu.so)\nframe #18: torch::autograd::python::PythonEngine::thread_init(int, std::shared_ptr<torch::autograd::ReadyQueue> const&, bool) + 0x4a (0x7f3d5969e1ba in /home/juermieboop/miniconda3/envs/catvae/lib/python3.8/site-packages/torch/lib/libtorch_python.so)\nframe #19: <unknown function> + 0xc9067 (0x7f3d922f2067 in /home/juermieboop/miniconda3/envs/catvae/lib/python3.8/site-packages/zmq/backend/cython/../../../../.././libstdc++.so.6)\nframe #20: <unknown function> + 0x76db (0x7f3d94fa86db in /lib/x86_64-linux-gnu/libpthread.so.0)\nframe #21: clone + 0x3f (0x7f3d94cd1a3f in /lib/x86_64-linux-gnu/libc.so.6)\n"
     ]
    }
   ],
   "source": [
    "output_dir = 'output'\n",
    "args = [\n",
    "    '--train-biom', 'train.biom',\n",
    "    '--test-biom', 'train.biom',\n",
    "    '--val-biom', 'train.biom',\n",
    "    '--basis-file', 'basis.nwk',\n",
    "    '--output-directory', output_dir,\n",
    "    '--epochs', '30000',\n",
    "    '--batch-size', '200',\n",
    "    '--num-workers', '10',\n",
    "    '--scheduler', 'cosine',\n",
    "    '--learning-rate', '1e-1',\n",
    "    '--n-latent', '4',\n",
    "    '--gpus', '1'\n",
    "]\n",
    "parser = argparse.ArgumentParser(add_help=False)\n",
    "parser = LightningCountVAE.add_model_specific_args(parser)\n",
    "parser.add_argument('--num-workers', type=int)\n",
    "parser.add_argument('--gpus', type=int)\n",
    "args = parser.parse_args(args)\n",
    "model = LightningCountVAE(args)\n",
    "model.set_eigs(sims['eigvectors'], sims['eigs'])\n",
    "\n",
    "trainer = Trainer(\n",
    "    max_epochs=args.epochs,\n",
    "    gpus=args.gpus,\n",
    "    check_val_every_n_epoch=10,\n",
    "    # profiler=profiler,\n",
    "    fast_dev_run=False,\n",
    "    # auto_scale_batch_size='power'\n",
    ")\n",
    "trainer.fit(model)"
   ]
  },
  {
   "cell_type": "code",
   "execution_count": null,
   "metadata": {},
   "outputs": [],
   "source": [
    "a = torch.randn(2, 3).to_sparse().requires_grad_(True)\n",
    "b = torch.randn(3, 2, requires_grad=True)\n",
    "#y = torch.sparse.mm(a, b)\n",
    "y = a @ b\n",
    "y.sum().backward()  \n",
    "a.grad"
   ]
  },
  {
   "cell_type": "code",
   "execution_count": null,
   "metadata": {},
   "outputs": [],
   "source": [
    "%load_ext tensorboard"
   ]
  },
  {
   "cell_type": "code",
   "execution_count": null,
   "metadata": {
    "scrolled": false
   },
   "outputs": [],
   "source": [
    "%tensorboard --logdir lightning_logs"
   ]
  },
  {
   "cell_type": "code",
   "execution_count": null,
   "metadata": {},
   "outputs": [],
   "source": [
    "trainer.model"
   ]
  },
  {
   "cell_type": "markdown",
   "metadata": {},
   "source": [
    "# Evaluate the model"
   ]
  },
  {
   "cell_type": "code",
   "execution_count": null,
   "metadata": {},
   "outputs": [],
   "source": [
    "!ls lightning_logs/version_1/checkpoints"
   ]
  },
  {
   "cell_type": "code",
   "execution_count": null,
   "metadata": {},
   "outputs": [],
   "source": [
    "from pytorch_lightning.callbacks.model_checkpoint import ModelCheckpoint\n",
    "checkpoint_dir = 'lightning_logs/version_1/checkpoints'\n",
    "path = f'{checkpoint_dir}/epoch=139.ckpt'\n",
    "model = LightningCountVAE.load_from_checkpoint(path).cuda()"
   ]
  },
  {
   "cell_type": "code",
   "execution_count": null,
   "metadata": {},
   "outputs": [],
   "source": [
    "#W = model.model.get_loadings()\n",
    "from scipy.stats import pearsonr\n",
    "import matplotlib.pyplot as plt\n",
    "from scipy.spatial.distance import pdist\n",
    "\n",
    "W = model.model.decoder.weight.detach().cpu().numpy()\n",
    "\n",
    "d_estW = pdist(W)\n",
    "dW = pdist(sims['W'])\n",
    "plt.scatter(dW, d_estW)\n",
    "plt.plot(np.linspace(0, 4), np.linspace(0, 4), 'r')\n",
    "plt.xlabel('Predicted correlations')\n",
    "plt.ylabel('Actual correlations')\n",
    "\n",
    "print(pearsonr(dW, d_estW))"
   ]
  },
  {
   "cell_type": "code",
   "execution_count": null,
   "metadata": {},
   "outputs": [],
   "source": [
    "eigvals = (W**2).sum(axis=0)\n",
    "Weig = W / np.sqrt(eigvals)"
   ]
  },
  {
   "cell_type": "code",
   "execution_count": null,
   "metadata": {},
   "outputs": [],
   "source": [
    "Weig.T @ Weig"
   ]
  },
  {
   "cell_type": "code",
   "execution_count": null,
   "metadata": {},
   "outputs": [],
   "source": [
    "Wu, Ws, Wv = np.linalg.svd(W)\n",
    "k = W.shape[1]\n",
    "Wu = Wu[:, :k]\n",
    "Ws = Ws[:k]\n",
    "Wv = Wv[:k, :]"
   ]
  },
  {
   "cell_type": "code",
   "execution_count": null,
   "metadata": {},
   "outputs": [],
   "source": [
    "W.T @ W"
   ]
  },
  {
   "cell_type": "code",
   "execution_count": null,
   "metadata": {},
   "outputs": [],
   "source": [
    "import torch\n",
    "from catvae.dataset.biom import BiomDataset\n",
    "from skbio.stats.composition import alr_inv, closure\n",
    "valid_dataset = BiomDataset(valid)"
   ]
  },
  {
   "cell_type": "code",
   "execution_count": null,
   "metadata": {},
   "outputs": [],
   "source": [
    "decoder_np = model.model.decoder.weight.detach().cpu().numpy()\n",
    "z = [] \n",
    "pred_z = []\n",
    "pred_probs = []\n",
    "counts = []\n",
    "for i in range(len(valid_dataset)):\n",
    "    cnts, batch_idx = valid_dataset[i]\n",
    "    counts.append(closure(cnts))\n",
    "    cnts = torch.Tensor(cnts).cuda().unsqueeze(0)\n",
    "    res = model.forward(cnts)\n",
    "    z.append(sims['z'][parts * 8 + i])\n",
    "    pred_z.append(res['qz_m'].cpu().detach().numpy())\n",
    "    pred_probs.append(alr_inv(res['px_mean'].cpu().detach().numpy()))"
   ]
  },
  {
   "cell_type": "code",
   "execution_count": null,
   "metadata": {},
   "outputs": [],
   "source": [
    "counts = np.vstack(counts)\n",
    "pred_probs = np.vstack(pred_probs)\n",
    "pred_z = np.vstack(pred_z)"
   ]
  },
  {
   "cell_type": "code",
   "execution_count": null,
   "metadata": {},
   "outputs": [],
   "source": [
    "from scipy.spatial.distance import pdist\n",
    "d_predz = pdist(pred_z)\n",
    "dz = pdist(z)"
   ]
  },
  {
   "cell_type": "code",
   "execution_count": null,
   "metadata": {},
   "outputs": [],
   "source": [
    "z = np.vstack(z)"
   ]
  },
  {
   "cell_type": "code",
   "execution_count": null,
   "metadata": {},
   "outputs": [],
   "source": [
    "sns.heatmap(pred_z)"
   ]
  },
  {
   "cell_type": "code",
   "execution_count": null,
   "metadata": {},
   "outputs": [],
   "source": [
    "sns.heatmap(z)"
   ]
  },
  {
   "cell_type": "raw",
   "metadata": {},
   "source": [
    "import matplotlib.pyplot as plt\n",
    "from umap import UMAP\n",
    "\n",
    "reducer = UMAP()\n",
    "embed1 = reducer.fit_transform(pred_z)\n",
    "embed2 = reducer.fit_transform(z)\n",
    "fig, ax = plt.subplots(1, 2, figsize=(10, 5))\n",
    "ax[0].scatter(embed1[:, 0], embed1[:, 1])\n",
    "ax[1].scatter(embed2[:, 0], embed2[:, 1])"
   ]
  },
  {
   "cell_type": "code",
   "execution_count": null,
   "metadata": {},
   "outputs": [],
   "source": [
    "#W = model.model.get_loadings()\n",
    "from scipy.stats import pearsonr\n",
    "import matplotlib.pyplot as plt\n",
    "from scipy.spatial.distance import pdist\n",
    "\n",
    "W = model.model.decoder.weight.detach().cpu().numpy()\n",
    "\n",
    "d_estW = pdist(W)\n",
    "dW = pdist(sims['W'])\n",
    "plt.scatter(dW, d_estW)\n",
    "print(pearsonr(dW, d_estW))"
   ]
  },
  {
   "cell_type": "code",
   "execution_count": null,
   "metadata": {},
   "outputs": [],
   "source": [
    "lam = np.ravel(sims['z'][parts * 8 : parts * 8 + 50] @ sims['W'].T)\n",
    "pred_lam = np.ravel(z @ W.T)\n",
    "plt.scatter(lam, pred_lam)\n",
    "print(pearsonr(lam, pred_lam))"
   ]
  },
  {
   "cell_type": "code",
   "execution_count": null,
   "metadata": {},
   "outputs": [],
   "source": [
    "z.shape, W.shape, lam.shape, sims['z'].shape, sims['W'].shape"
   ]
  },
  {
   "cell_type": "code",
   "execution_count": null,
   "metadata": {},
   "outputs": [],
   "source": [
    "from scipy.stats import entropy\n",
    "ens = []\n",
    "for i in range(counts.shape[0]):\n",
    "    e = entropy(counts[i], pred_probs[i])\n",
    "    ens.append(e)"
   ]
  },
  {
   "cell_type": "code",
   "execution_count": null,
   "metadata": {},
   "outputs": [],
   "source": [
    "sns.distplot(ens, bins=20)"
   ]
  },
  {
   "cell_type": "code",
   "execution_count": null,
   "metadata": {},
   "outputs": [],
   "source": [
    "sns.heatmap(pred_probs)"
   ]
  },
  {
   "cell_type": "code",
   "execution_count": null,
   "metadata": {},
   "outputs": [],
   "source": [
    "sns.heatmap(counts)"
   ]
  },
  {
   "cell_type": "code",
   "execution_count": null,
   "metadata": {},
   "outputs": [],
   "source": [
    "plt.scatter(counts.ravel()+1, pred_probs.ravel()+1)\n",
    "plt.xscale('log')\n",
    "plt.yscale('log')"
   ]
  },
  {
   "cell_type": "code",
   "execution_count": null,
   "metadata": {},
   "outputs": [],
   "source": [
    "pearsonr(counts.ravel()+1, pred_probs.ravel()+1)"
   ]
  },
  {
   "cell_type": "code",
   "execution_count": null,
   "metadata": {},
   "outputs": [],
   "source": [
    "torch.exp(model.model.encoder.variational_logvars)"
   ]
  },
  {
   "cell_type": "code",
   "execution_count": null,
   "metadata": {},
   "outputs": [],
   "source": [
    "parser"
   ]
  },
  {
   "cell_type": "code",
   "execution_count": null,
   "metadata": {},
   "outputs": [],
   "source": [
    "# scratch work with least squares\n",
    "\n",
    "from gneiss.balances import _balance_basis\n",
    "from gneiss.cluster import random_linkage\n",
    "d = 100\n",
    "basis = _balance_basis(random_linkage(d))[0]\n",
    "\n",
    "Id = np.eye(d)\n",
    "dd = (1 / d) * np.ones((d, d))\n",
    "\n",
    "A = Id - dd\n",
    "b = np.random.randn(d)\n",
    "\n",
    "x, err, rank, s = np.linalg.lstsq(A, b, rcond=None)"
   ]
  }
 ],
 "metadata": {
  "kernelspec": {
   "display_name": "Python 3",
   "language": "python",
   "name": "python3"
  },
  "language_info": {
   "codemirror_mode": {
    "name": "ipython",
    "version": 3
   },
   "file_extension": ".py",
   "mimetype": "text/x-python",
   "name": "python",
   "nbconvert_exporter": "python",
   "pygments_lexer": "ipython3",
   "version": "3.8.5"
  }
 },
 "nbformat": 4,
 "nbformat_minor": 4
}
